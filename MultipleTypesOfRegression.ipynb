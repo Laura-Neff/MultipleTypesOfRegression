{
  "nbformat": 4,
  "nbformat_minor": 0,
  "metadata": {
    "colab": {
      "name": "MultipleTypesOfRegression.ipynb",
      "provenance": [],
      "collapsed_sections": [],
      "authorship_tag": "ABX9TyMDGYk8QbqCcKaZr/qwkfbJ",
      "include_colab_link": true
    },
    "kernelspec": {
      "name": "python3",
      "display_name": "Python 3"
    },
    "language_info": {
      "name": "python"
    }
  },
  "cells": [
    {
      "cell_type": "markdown",
      "metadata": {
        "id": "view-in-github",
        "colab_type": "text"
      },
      "source": [
        "<a href=\"https://colab.research.google.com/github/Laura-Neff/MultipleTypesOfRegression/blob/main/MultipleTypesOfRegression.ipynb\" target=\"_parent\"><img src=\"https://colab.research.google.com/assets/colab-badge.svg\" alt=\"Open In Colab\"/></a>"
      ]
    },
    {
      "cell_type": "code",
      "execution_count": null,
      "metadata": {
        "id": "PY41QWS5Lnfw"
      },
      "outputs": [],
      "source": [
        "import pandas as pd\n",
        "\n",
        "import matplotlib.pyplot as plt\n",
        "\n",
        "from sklearn.model_selection import train_test_split\n",
        "from sklearn.metrics import r2_score"
      ]
    },
    {
      "cell_type": "code",
      "source": [
        "data = pd.read_csv('diamonds_processed.csv', index_col=0)\n",
        "\n",
        "data.head()"
      ],
      "metadata": {
        "colab": {
          "base_uri": "https://localhost:8080/",
          "height": 319
        },
        "id": "VbLSjZgTLp9S",
        "outputId": "ceb7c109-2406-451e-d8f2-9798d5d9fe18"
      },
      "execution_count": null,
      "outputs": [
        {
          "output_type": "execute_result",
          "data": {
            "text/plain": [
              "         price  cut_Fair  cut_Good  cut_Ideal  cut_Premium  cut_Very Good  \\\n",
              "clarity                                                                     \n",
              "5         2347         0         0          1            0              0   \n",
              "3        17108         0         0          1            0              0   \n",
              "5         1838         0         0          1            0              0   \n",
              "3         3625         0         0          1            0              0   \n",
              "3         5729         1         0          0            0              0   \n",
              "\n",
              "         color_D  color_E  color_F  color_G  color_H  color_I  color_J  \\\n",
              "clarity                                                                  \n",
              "5              0        0        0        1        0        0        0   \n",
              "3              0        0        1        0        0        0        0   \n",
              "5              0        0        0        1        0        0        0   \n",
              "3              1        0        0        0        0        0        0   \n",
              "3              0        1        0        0        0        0        0   \n",
              "\n",
              "            carat     depth     table         x         y         z  \n",
              "clarity                                                              \n",
              "5       -0.426762  0.183806 -0.215603 -0.297549 -0.252463 -0.237666  \n",
              "3        1.588656  0.183806 -1.102293  1.480844  1.486613  1.420743  \n",
              "5       -0.636701  0.183806 -0.658948 -0.582092 -0.540852 -0.505151  \n",
              "3       -0.111853 -0.020553 -1.102293  0.067022  0.088361  0.069942  \n",
              "3        0.412995  3.589792 -1.545638  0.431592  0.376751  0.818901  "
            ],
            "text/html": [
              "\n",
              "  <div id=\"df-cc66daa6-184b-451f-9b33-29ff1bc5adee\">\n",
              "    <div class=\"colab-df-container\">\n",
              "      <div>\n",
              "<style scoped>\n",
              "    .dataframe tbody tr th:only-of-type {\n",
              "        vertical-align: middle;\n",
              "    }\n",
              "\n",
              "    .dataframe tbody tr th {\n",
              "        vertical-align: top;\n",
              "    }\n",
              "\n",
              "    .dataframe thead th {\n",
              "        text-align: right;\n",
              "    }\n",
              "</style>\n",
              "<table border=\"1\" class=\"dataframe\">\n",
              "  <thead>\n",
              "    <tr style=\"text-align: right;\">\n",
              "      <th></th>\n",
              "      <th>price</th>\n",
              "      <th>cut_Fair</th>\n",
              "      <th>cut_Good</th>\n",
              "      <th>cut_Ideal</th>\n",
              "      <th>cut_Premium</th>\n",
              "      <th>cut_Very Good</th>\n",
              "      <th>color_D</th>\n",
              "      <th>color_E</th>\n",
              "      <th>color_F</th>\n",
              "      <th>color_G</th>\n",
              "      <th>color_H</th>\n",
              "      <th>color_I</th>\n",
              "      <th>color_J</th>\n",
              "      <th>carat</th>\n",
              "      <th>depth</th>\n",
              "      <th>table</th>\n",
              "      <th>x</th>\n",
              "      <th>y</th>\n",
              "      <th>z</th>\n",
              "    </tr>\n",
              "    <tr>\n",
              "      <th>clarity</th>\n",
              "      <th></th>\n",
              "      <th></th>\n",
              "      <th></th>\n",
              "      <th></th>\n",
              "      <th></th>\n",
              "      <th></th>\n",
              "      <th></th>\n",
              "      <th></th>\n",
              "      <th></th>\n",
              "      <th></th>\n",
              "      <th></th>\n",
              "      <th></th>\n",
              "      <th></th>\n",
              "      <th></th>\n",
              "      <th></th>\n",
              "      <th></th>\n",
              "      <th></th>\n",
              "      <th></th>\n",
              "      <th></th>\n",
              "    </tr>\n",
              "  </thead>\n",
              "  <tbody>\n",
              "    <tr>\n",
              "      <th>5</th>\n",
              "      <td>2347</td>\n",
              "      <td>0</td>\n",
              "      <td>0</td>\n",
              "      <td>1</td>\n",
              "      <td>0</td>\n",
              "      <td>0</td>\n",
              "      <td>0</td>\n",
              "      <td>0</td>\n",
              "      <td>0</td>\n",
              "      <td>1</td>\n",
              "      <td>0</td>\n",
              "      <td>0</td>\n",
              "      <td>0</td>\n",
              "      <td>-0.426762</td>\n",
              "      <td>0.183806</td>\n",
              "      <td>-0.215603</td>\n",
              "      <td>-0.297549</td>\n",
              "      <td>-0.252463</td>\n",
              "      <td>-0.237666</td>\n",
              "    </tr>\n",
              "    <tr>\n",
              "      <th>3</th>\n",
              "      <td>17108</td>\n",
              "      <td>0</td>\n",
              "      <td>0</td>\n",
              "      <td>1</td>\n",
              "      <td>0</td>\n",
              "      <td>0</td>\n",
              "      <td>0</td>\n",
              "      <td>0</td>\n",
              "      <td>1</td>\n",
              "      <td>0</td>\n",
              "      <td>0</td>\n",
              "      <td>0</td>\n",
              "      <td>0</td>\n",
              "      <td>1.588656</td>\n",
              "      <td>0.183806</td>\n",
              "      <td>-1.102293</td>\n",
              "      <td>1.480844</td>\n",
              "      <td>1.486613</td>\n",
              "      <td>1.420743</td>\n",
              "    </tr>\n",
              "    <tr>\n",
              "      <th>5</th>\n",
              "      <td>1838</td>\n",
              "      <td>0</td>\n",
              "      <td>0</td>\n",
              "      <td>1</td>\n",
              "      <td>0</td>\n",
              "      <td>0</td>\n",
              "      <td>0</td>\n",
              "      <td>0</td>\n",
              "      <td>0</td>\n",
              "      <td>1</td>\n",
              "      <td>0</td>\n",
              "      <td>0</td>\n",
              "      <td>0</td>\n",
              "      <td>-0.636701</td>\n",
              "      <td>0.183806</td>\n",
              "      <td>-0.658948</td>\n",
              "      <td>-0.582092</td>\n",
              "      <td>-0.540852</td>\n",
              "      <td>-0.505151</td>\n",
              "    </tr>\n",
              "    <tr>\n",
              "      <th>3</th>\n",
              "      <td>3625</td>\n",
              "      <td>0</td>\n",
              "      <td>0</td>\n",
              "      <td>1</td>\n",
              "      <td>0</td>\n",
              "      <td>0</td>\n",
              "      <td>1</td>\n",
              "      <td>0</td>\n",
              "      <td>0</td>\n",
              "      <td>0</td>\n",
              "      <td>0</td>\n",
              "      <td>0</td>\n",
              "      <td>0</td>\n",
              "      <td>-0.111853</td>\n",
              "      <td>-0.020553</td>\n",
              "      <td>-1.102293</td>\n",
              "      <td>0.067022</td>\n",
              "      <td>0.088361</td>\n",
              "      <td>0.069942</td>\n",
              "    </tr>\n",
              "    <tr>\n",
              "      <th>3</th>\n",
              "      <td>5729</td>\n",
              "      <td>1</td>\n",
              "      <td>0</td>\n",
              "      <td>0</td>\n",
              "      <td>0</td>\n",
              "      <td>0</td>\n",
              "      <td>0</td>\n",
              "      <td>1</td>\n",
              "      <td>0</td>\n",
              "      <td>0</td>\n",
              "      <td>0</td>\n",
              "      <td>0</td>\n",
              "      <td>0</td>\n",
              "      <td>0.412995</td>\n",
              "      <td>3.589792</td>\n",
              "      <td>-1.545638</td>\n",
              "      <td>0.431592</td>\n",
              "      <td>0.376751</td>\n",
              "      <td>0.818901</td>\n",
              "    </tr>\n",
              "  </tbody>\n",
              "</table>\n",
              "</div>\n",
              "      <button class=\"colab-df-convert\" onclick=\"convertToInteractive('df-cc66daa6-184b-451f-9b33-29ff1bc5adee')\"\n",
              "              title=\"Convert this dataframe to an interactive table.\"\n",
              "              style=\"display:none;\">\n",
              "        \n",
              "  <svg xmlns=\"http://www.w3.org/2000/svg\" height=\"24px\"viewBox=\"0 0 24 24\"\n",
              "       width=\"24px\">\n",
              "    <path d=\"M0 0h24v24H0V0z\" fill=\"none\"/>\n",
              "    <path d=\"M18.56 5.44l.94 2.06.94-2.06 2.06-.94-2.06-.94-.94-2.06-.94 2.06-2.06.94zm-11 1L8.5 8.5l.94-2.06 2.06-.94-2.06-.94L8.5 2.5l-.94 2.06-2.06.94zm10 10l.94 2.06.94-2.06 2.06-.94-2.06-.94-.94-2.06-.94 2.06-2.06.94z\"/><path d=\"M17.41 7.96l-1.37-1.37c-.4-.4-.92-.59-1.43-.59-.52 0-1.04.2-1.43.59L10.3 9.45l-7.72 7.72c-.78.78-.78 2.05 0 2.83L4 21.41c.39.39.9.59 1.41.59.51 0 1.02-.2 1.41-.59l7.78-7.78 2.81-2.81c.8-.78.8-2.07 0-2.86zM5.41 20L4 18.59l7.72-7.72 1.47 1.35L5.41 20z\"/>\n",
              "  </svg>\n",
              "      </button>\n",
              "      \n",
              "  <style>\n",
              "    .colab-df-container {\n",
              "      display:flex;\n",
              "      flex-wrap:wrap;\n",
              "      gap: 12px;\n",
              "    }\n",
              "\n",
              "    .colab-df-convert {\n",
              "      background-color: #E8F0FE;\n",
              "      border: none;\n",
              "      border-radius: 50%;\n",
              "      cursor: pointer;\n",
              "      display: none;\n",
              "      fill: #1967D2;\n",
              "      height: 32px;\n",
              "      padding: 0 0 0 0;\n",
              "      width: 32px;\n",
              "    }\n",
              "\n",
              "    .colab-df-convert:hover {\n",
              "      background-color: #E2EBFA;\n",
              "      box-shadow: 0px 1px 2px rgba(60, 64, 67, 0.3), 0px 1px 3px 1px rgba(60, 64, 67, 0.15);\n",
              "      fill: #174EA6;\n",
              "    }\n",
              "\n",
              "    [theme=dark] .colab-df-convert {\n",
              "      background-color: #3B4455;\n",
              "      fill: #D2E3FC;\n",
              "    }\n",
              "\n",
              "    [theme=dark] .colab-df-convert:hover {\n",
              "      background-color: #434B5C;\n",
              "      box-shadow: 0px 1px 3px 1px rgba(0, 0, 0, 0.15);\n",
              "      filter: drop-shadow(0px 1px 2px rgba(0, 0, 0, 0.3));\n",
              "      fill: #FFFFFF;\n",
              "    }\n",
              "  </style>\n",
              "\n",
              "      <script>\n",
              "        const buttonEl =\n",
              "          document.querySelector('#df-cc66daa6-184b-451f-9b33-29ff1bc5adee button.colab-df-convert');\n",
              "        buttonEl.style.display =\n",
              "          google.colab.kernel.accessAllowed ? 'block' : 'none';\n",
              "\n",
              "        async function convertToInteractive(key) {\n",
              "          const element = document.querySelector('#df-cc66daa6-184b-451f-9b33-29ff1bc5adee');\n",
              "          const dataTable =\n",
              "            await google.colab.kernel.invokeFunction('convertToInteractive',\n",
              "                                                     [key], {});\n",
              "          if (!dataTable) return;\n",
              "\n",
              "          const docLinkHtml = 'Like what you see? Visit the ' +\n",
              "            '<a target=\"_blank\" href=https://colab.research.google.com/notebooks/data_table.ipynb>data table notebook</a>'\n",
              "            + ' to learn more about interactive tables.';\n",
              "          element.innerHTML = '';\n",
              "          dataTable['output_type'] = 'display_data';\n",
              "          await google.colab.output.renderOutput(dataTable, element);\n",
              "          const docLink = document.createElement('div');\n",
              "          docLink.innerHTML = docLinkHtml;\n",
              "          element.appendChild(docLink);\n",
              "        }\n",
              "      </script>\n",
              "    </div>\n",
              "  </div>\n",
              "  "
            ]
          },
          "metadata": {},
          "execution_count": 9
        }
      ]
    },
    {
      "cell_type": "code",
      "source": [
        "from sklearn.linear_model import LinearRegression\n",
        "def linear_model(x_train, y_train):\n",
        "    \n",
        "    print(\"Linear Regression \")\n",
        "    linear_regression = LinearRegression()\n",
        "    \n",
        "    linear_regression.fit(x_train, y_train)\n",
        "    \n",
        "    return linear_regression"
      ],
      "metadata": {
        "id": "pVuaZutnLp_5"
      },
      "execution_count": null,
      "outputs": []
    },
    {
      "cell_type": "code",
      "source": [
        "from sklearn.linear_model import Lasso\n",
        "\n",
        "def lasso_model(x_train, y_train):\n",
        "    \n",
        "    print(\"Lasso Regression\")\n",
        "    lasso_regression = Lasso(alpha=0.8, max_iter=10000)\n",
        "    \n",
        "    lasso_regression.fit(x_train, y_train)\n",
        "    \n",
        "    return lasso_regression\n",
        "\n",
        "#alpha determines the strength of the regularization; constant that multiplies the regularization term "
      ],
      "metadata": {
        "id": "iG-zzBvILqCq"
      },
      "execution_count": null,
      "outputs": []
    },
    {
      "cell_type": "code",
      "source": [
        "from sklearn.linear_model import Ridge\n",
        "\n",
        "def ridge_model(x_train, y_train):\n",
        "    \n",
        "    print(\"Ridge Regression\")\n",
        "    ridge_regression = Ridge(alpha=0.9)\n",
        "    \n",
        "    ridge_regression.fit(x_train, y_train)\n",
        "    \n",
        "    return ridge_regression\n",
        "\n",
        "    #regularization penalty in terms of ridge regression is the sum of the squares of the coefficients in our regression analysis"
      ],
      "metadata": {
        "id": "7nvHgaMeLqF5"
      },
      "execution_count": null,
      "outputs": []
    },
    {
      "cell_type": "code",
      "source": [
        "def build_and_train_model(data, target_name, reg_fn):\n",
        "    \n",
        "    X = data.drop(target_name, axis=1)\n",
        "    Y = data[target_name]\n",
        "    \n",
        "    x_train, x_test, y_train, y_test = \\\n",
        "        train_test_split(X, Y, test_size = 0.2, random_state=0)\n",
        "\n",
        "    model = reg_fn(x_train, y_train)\n",
        "    \n",
        "    score = model.score(x_train, y_train)\n",
        "    print(\"Training Score : \", score)\n",
        "\n",
        "    y_pred = model.predict(x_test)\n",
        "    r_score = r2_score(y_test, y_pred)\n",
        "    print(\"Testing Score : \", r_score)\n",
        "    \n",
        "    return {'model' : model, \n",
        "            'x_train' : x_train, 'x_test' : x_test,\n",
        "            'y_train' : y_train, 'y_test' : y_test, \n",
        "            'y_pred' : y_pred\n",
        "           }"
      ],
      "metadata": {
        "id": "oubx1KkCMCs0"
      },
      "execution_count": null,
      "outputs": []
    },
    {
      "cell_type": "code",
      "source": [
        "linear_reg = build_and_train_model(data, \"price\", linear_model)"
      ],
      "metadata": {
        "colab": {
          "base_uri": "https://localhost:8080/"
        },
        "id": "3Ec5Pt_QMCvo",
        "outputId": "cb978775-95b1-4d7c-c6f2-9d166674b3e5"
      },
      "execution_count": null,
      "outputs": [
        {
          "output_type": "stream",
          "name": "stdout",
          "text": [
            "Linear Regression \n",
            "Training Score :  0.8769773439203701\n",
            "Testing Score :  0.858678497083373\n"
          ]
        }
      ]
    },
    {
      "cell_type": "code",
      "source": [
        "lasso_reg = build_and_train_model(data, \"price\", lasso_model)"
      ],
      "metadata": {
        "colab": {
          "base_uri": "https://localhost:8080/"
        },
        "id": "Py7Y8ohiMCye",
        "outputId": "5133911c-1239-4d0f-e6bc-d9a271baf906"
      },
      "execution_count": null,
      "outputs": [
        {
          "output_type": "stream",
          "name": "stdout",
          "text": [
            "Lasso Regression\n",
            "Training Score :  0.8769660880729163\n",
            "Testing Score :  0.8588299001123165\n"
          ]
        }
      ]
    },
    {
      "cell_type": "code",
      "source": [
        "ridge_reg = build_and_train_model(data, \"price\", ridge_model)\n",
        "\n",
        "#because the data we are working with is fairly simple, using regularized models did not really help. \n",
        "#The original linear regression wasn't really overfitted on the data"
      ],
      "metadata": {
        "colab": {
          "base_uri": "https://localhost:8080/"
        },
        "id": "tAoYO71fLqI8",
        "outputId": "77886568-a121-4870-8f53-074a759b7da3"
      },
      "execution_count": null,
      "outputs": [
        {
          "output_type": "stream",
          "name": "stdout",
          "text": [
            "Ridge Regression\n",
            "Training Score :  0.8769767455315431\n",
            "Testing Score :  0.8587808694573578\n"
          ]
        }
      ]
    },
    {
      "cell_type": "code",
      "source": [
        "from sklearn.linear_model import SGDRegressor\n",
        "\n",
        "def sgd_model(x_train, y_train):\n",
        "    \n",
        "    print(\"SGD Regression\")\n",
        "    sgd_regression = SGDRegressor(max_iter=2000)\n",
        "    \n",
        "    sgd_regression.fit(x_train, y_train)\n",
        "    \n",
        "    return sgd_regression"
      ],
      "metadata": {
        "id": "oyIRCKrRLqMC"
      },
      "execution_count": null,
      "outputs": []
    },
    {
      "cell_type": "code",
      "source": [
        "sgd_reg = build_and_train_model(data, \"price\", sgd_model)"
      ],
      "metadata": {
        "colab": {
          "base_uri": "https://localhost:8080/"
        },
        "id": "gMMmmPqqLqPS",
        "outputId": "1b1a65ac-42cc-4b57-d6e2-4b15034f1ea8"
      },
      "execution_count": null,
      "outputs": [
        {
          "output_type": "stream",
          "name": "stdout",
          "text": [
            "SGD Regression\n",
            "Training Score :  0.8767292955773758\n",
            "Testing Score :  0.8583285667274763\n"
          ]
        }
      ]
    }
  ]
}